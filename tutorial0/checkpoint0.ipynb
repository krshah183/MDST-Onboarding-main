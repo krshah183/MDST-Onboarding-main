{
 "cells": [
  {
   "cell_type": "markdown",
   "metadata": {
    "colab_type": "text",
    "id": "0a8IYAJUshu1"
   },
   "source": [
    "# Checkpoint 0 \n",
    "## Do not remove comments that start with: \"# @@@\" (Those are question tags)"
   ]
  },
  {
   "cell_type": "markdown",
   "metadata": {},
   "source": [
    "These exercises are a mix of Python and Pandas practice. Most should be no more than a few lines of code! \n",
    "\n",
    "Do not remove comments that start with: \"# @@@\" (Those are question tags)"
   ]
  },
  {
   "cell_type": "code",
   "execution_count": 2,
   "metadata": {
    "colab": {},
    "colab_type": "code",
    "id": "Jo6wuTgkshu1"
   },
   "outputs": [
    {
     "data": {
      "text/plain": [
       "[1, 2, 3, 4, 5, 6]"
      ]
     },
     "execution_count": 2,
     "metadata": {},
     "output_type": "execute_result"
    }
   ],
   "source": [
    "# @@@ Question 1: Here is a python list, initialize another list called b with the same values as a.\n",
    "a = [1, 2, 3, 4, 5, 6]\n",
    "b = a.copy()\n",
    "b"
   ]
  },
  {
   "cell_type": "code",
   "execution_count": 4,
   "id": "779d96b1",
   "metadata": {},
   "outputs": [
    {
     "data": {
      "text/plain": [
       "[4, 5, 6]"
      ]
     },
     "execution_count": 4,
     "metadata": {},
     "output_type": "execute_result"
    }
   ],
   "source": [
    "# @@@ Question 2: get a list containing the last 3 elements of b \n",
    "# Yes, you can just type out [4, 5, 6] but we really want to see you demonstrate you know how to use list slicing in Python\n",
    "c = b[3:]\n",
    "c"
   ]
  },
  {
   "cell_type": "code",
   "execution_count": 9,
   "id": "b6a54def",
   "metadata": {},
   "outputs": [
    {
     "data": {
      "text/plain": [
       "[1, 2, 3, 4, 5, 6, 7, 8, 9, 10, 11, 12, 13, 14, 15, 16, 17, 18, 19, 20]"
      ]
     },
     "execution_count": 9,
     "metadata": {},
     "output_type": "execute_result"
    }
   ],
   "source": [
    "# @@@ Question 3: Create a list of numbers from 1 to 20\n",
    "d = list(range(1,21))\n",
    "d"
   ]
  },
  {
   "cell_type": "code",
   "execution_count": 11,
   "id": "487873ac",
   "metadata": {},
   "outputs": [
    {
     "data": {
      "text/plain": [
       "[2,\n",
       " 4,\n",
       " 6,\n",
       " 8,\n",
       " 10,\n",
       " 12,\n",
       " 14,\n",
       " 16,\n",
       " 18,\n",
       " 20,\n",
       " 22,\n",
       " 24,\n",
       " 26,\n",
       " 28,\n",
       " 30,\n",
       " 32,\n",
       " 34,\n",
       " 36,\n",
       " 38,\n",
       " 40,\n",
       " 42,\n",
       " 44,\n",
       " 46,\n",
       " 48,\n",
       " 50,\n",
       " 52,\n",
       " 54,\n",
       " 56,\n",
       " 58,\n",
       " 60,\n",
       " 62,\n",
       " 64,\n",
       " 66,\n",
       " 68,\n",
       " 70,\n",
       " 72,\n",
       " 74,\n",
       " 76,\n",
       " 78,\n",
       " 80,\n",
       " 82,\n",
       " 84,\n",
       " 86,\n",
       " 88,\n",
       " 90,\n",
       " 92,\n",
       " 94,\n",
       " 96,\n",
       " 98,\n",
       " 100]"
      ]
     },
     "execution_count": 11,
     "metadata": {},
     "output_type": "execute_result"
    }
   ],
   "source": [
    "# @@@ Question 4: now get a list with only the even numbers between 1 and 100\n",
    "e = list(range(2, 101, 2))\n",
    "e"
   ]
  },
  {
   "cell_type": "code",
   "execution_count": null,
   "id": "3d4bb5dd",
   "metadata": {},
   "outputs": [
    {
     "data": {
      "text/plain": [
       "1.6666666666666667"
      ]
     },
     "execution_count": 12,
     "metadata": {},
     "output_type": "execute_result"
    }
   ],
   "source": [
    "# @@@ Question 5: write a function that takes two numbers as arguments\n",
    "# and returns the first number divided by the second\n",
    "def func(a,b):\n",
    "    return a/b"
   ]
  },
  {
   "cell_type": "code",
   "execution_count": 15,
   "id": "f55df04e",
   "metadata": {},
   "outputs": [
    {
     "name": "stdout",
     "output_type": "stream",
     "text": [
      "1\n",
      "2\n",
      "fizz\n",
      "4\n",
      "buzz\n",
      "fizz\n",
      "7\n",
      "8\n",
      "fizz\n",
      "buzz\n",
      "11\n",
      "fizz\n",
      "13\n",
      "14\n",
      "fizzbuzz\n",
      "16\n",
      "17\n",
      "fizz\n",
      "19\n",
      "buzz\n",
      "fizz\n",
      "22\n",
      "23\n",
      "fizz\n",
      "buzz\n",
      "26\n",
      "fizz\n",
      "28\n",
      "29\n",
      "fizzbuzz\n"
     ]
    }
   ],
   "source": [
    "# @@@ Queston 6: fizzbuzz\n",
    "# you will need to use both iteration and control flow \n",
    "# go through all numbers from 1 to 30 in order\n",
    "# if the number is a multiple of 3, print fizz\n",
    "# if the number is a multiple of 5, print buzz\n",
    "# if the number is a multiple of 3 and 5, print fizzbuzz and NOTHING ELSE\n",
    "# if the number is neither a multiple of 3 nor a multiple of 5, print the number\n",
    "\n",
    "for i in range(1,31):\n",
    "    if (i % 3 == 0 and i % 5 !=0):\n",
    "        print ('fizz')\n",
    "    elif (i % 5 == 0 and i % 3 !=0):\n",
    "        print(\"buzz\")\n",
    "    elif (i % 5 == 0 and i % 3 ==0):\n",
    "        print('fizzbuzz')\n",
    "    else:\n",
    "        print(i)\n"
   ]
  },
  {
   "cell_type": "code",
   "execution_count": 16,
   "id": "78aace0b",
   "metadata": {},
   "outputs": [
    {
     "data": {
      "text/plain": [
       "{'Gyro': 9, 'Burger': 9, 'Greek Salad': 8, 'Philly Steak': 10}"
      ]
     },
     "execution_count": 16,
     "metadata": {},
     "output_type": "execute_result"
    }
   ],
   "source": [
    "# @@@ Question 7: create a dictionary that reflects the following menu pricing (taken from Ahmo's)\n",
    "# Gyro: $9 \n",
    "# Burger: $9\n",
    "# Greek Salad: $8\n",
    "# Philly Steak: $10\n",
    "my_dict = {'Gyro':9, 'Burger':9, 'Greek Salad':8, 'Philly Steak':10}\n",
    "my_dict"
   ]
  },
  {
   "cell_type": "code",
   "execution_count": null,
   "metadata": {
    "colab": {},
    "colab_type": "code",
    "id": "WzCQ5HOJshvA"
   },
   "outputs": [
    {
     "name": "stdout",
     "output_type": "stream",
     "text": [
      "<class 'pandas.core.frame.DataFrame'>\n",
      "RangeIndex: 242 entries, 0 to 241\n",
      "Data columns (total 18 columns):\n",
      " #   Column               Non-Null Count  Dtype  \n",
      "---  ------               --------------  -----  \n",
      " 0   beverage_category    242 non-null    object \n",
      " 1   beverage             242 non-null    object \n",
      " 2   beverage_prep        242 non-null    object \n",
      " 3   calories             242 non-null    int64  \n",
      " 4   total fat            242 non-null    float64\n",
      " 5   trans fat            242 non-null    float64\n",
      " 6   saturated fat        242 non-null    float64\n",
      " 7   sodium               242 non-null    int64  \n",
      " 8   total carbohydrates  242 non-null    int64  \n",
      " 9   cholesterol          242 non-null    int64  \n",
      " 10  dietary fibre        242 non-null    int64  \n",
      " 11  sugars               242 non-null    int64  \n",
      " 12  protein              242 non-null    float64\n",
      " 13  vitamin a            242 non-null    int64  \n",
      " 14  vitamin c            242 non-null    int64  \n",
      " 15  calcium              242 non-null    int64  \n",
      " 16  iron                 242 non-null    float64\n",
      " 17  caffeine             242 non-null    float64\n",
      "dtypes: float64(6), int64(9), object(3)\n",
      "memory usage: 34.2+ KB\n"
     ]
    }
   ],
   "source": [
    "# @@@ Question 8: load in the \"starbucks.csv\" dataset\n",
    "# refer to how we read the cereal.csv dataset in the tutorial\n",
    "import pandas as pd\n",
    "data = pd.read_csv(\"../data/starbucks.csv\")\n",
    "data.info()"
   ]
  },
  {
   "cell_type": "code",
   "execution_count": 22,
   "id": "ac0f0c12",
   "metadata": {},
   "outputs": [
    {
     "data": {
      "text/html": [
       "<div>\n",
       "<style scoped>\n",
       "    .dataframe tbody tr th:only-of-type {\n",
       "        vertical-align: middle;\n",
       "    }\n",
       "\n",
       "    .dataframe tbody tr th {\n",
       "        vertical-align: top;\n",
       "    }\n",
       "\n",
       "    .dataframe thead th {\n",
       "        text-align: right;\n",
       "    }\n",
       "</style>\n",
       "<table border=\"1\" class=\"dataframe\">\n",
       "  <thead>\n",
       "    <tr style=\"text-align: right;\">\n",
       "      <th></th>\n",
       "      <th>calories</th>\n",
       "      <th>total fat</th>\n",
       "      <th>trans fat</th>\n",
       "      <th>saturated fat</th>\n",
       "      <th>sodium</th>\n",
       "      <th>total carbohydrates</th>\n",
       "      <th>cholesterol</th>\n",
       "      <th>dietary fibre</th>\n",
       "      <th>sugars</th>\n",
       "      <th>protein</th>\n",
       "      <th>vitamin a</th>\n",
       "      <th>vitamin c</th>\n",
       "      <th>calcium</th>\n",
       "      <th>iron</th>\n",
       "      <th>caffeine</th>\n",
       "    </tr>\n",
       "  </thead>\n",
       "  <tbody>\n",
       "    <tr>\n",
       "      <th>count</th>\n",
       "      <td>8.000000</td>\n",
       "      <td>8.000000</td>\n",
       "      <td>8.000000</td>\n",
       "      <td>8.000000</td>\n",
       "      <td>8.000000</td>\n",
       "      <td>8.000000</td>\n",
       "      <td>8.000000</td>\n",
       "      <td>8.000000</td>\n",
       "      <td>8.000000</td>\n",
       "      <td>8.000000</td>\n",
       "      <td>8.000000</td>\n",
       "      <td>8.000000</td>\n",
       "      <td>8.000000</td>\n",
       "      <td>8.000000</td>\n",
       "      <td>8.000000</td>\n",
       "    </tr>\n",
       "    <tr>\n",
       "      <th>mean</th>\n",
       "      <td>447.500000</td>\n",
       "      <td>9.875000</td>\n",
       "      <td>6.062500</td>\n",
       "      <td>0.112500</td>\n",
       "      <td>16.875000</td>\n",
       "      <td>302.500000</td>\n",
       "      <td>78.250000</td>\n",
       "      <td>1.250000</td>\n",
       "      <td>73.625000</td>\n",
       "      <td>13.250000</td>\n",
       "      <td>15.250000</td>\n",
       "      <td>3.750000</td>\n",
       "      <td>41.250000</td>\n",
       "      <td>17.500000</td>\n",
       "      <td>143.125000</td>\n",
       "    </tr>\n",
       "    <tr>\n",
       "      <th>std</th>\n",
       "      <td>32.841611</td>\n",
       "      <td>3.226564</td>\n",
       "      <td>1.613282</td>\n",
       "      <td>0.124642</td>\n",
       "      <td>14.865468</td>\n",
       "      <td>42.342144</td>\n",
       "      <td>10.539043</td>\n",
       "      <td>1.164965</td>\n",
       "      <td>9.257237</td>\n",
       "      <td>5.625198</td>\n",
       "      <td>7.667184</td>\n",
       "      <td>6.713526</td>\n",
       "      <td>19.775526</td>\n",
       "      <td>17.088007</td>\n",
       "      <td>13.611314</td>\n",
       "    </tr>\n",
       "    <tr>\n",
       "      <th>min</th>\n",
       "      <td>400.000000</td>\n",
       "      <td>5.000000</td>\n",
       "      <td>4.000000</td>\n",
       "      <td>0.000000</td>\n",
       "      <td>0.000000</td>\n",
       "      <td>230.000000</td>\n",
       "      <td>61.000000</td>\n",
       "      <td>0.000000</td>\n",
       "      <td>58.000000</td>\n",
       "      <td>6.000000</td>\n",
       "      <td>6.000000</td>\n",
       "      <td>0.000000</td>\n",
       "      <td>15.000000</td>\n",
       "      <td>0.000000</td>\n",
       "      <td>110.000000</td>\n",
       "    </tr>\n",
       "    <tr>\n",
       "      <th>25%</th>\n",
       "      <td>427.500000</td>\n",
       "      <td>7.750000</td>\n",
       "      <td>4.875000</td>\n",
       "      <td>0.000000</td>\n",
       "      <td>5.000000</td>\n",
       "      <td>280.000000</td>\n",
       "      <td>71.500000</td>\n",
       "      <td>0.000000</td>\n",
       "      <td>69.250000</td>\n",
       "      <td>7.000000</td>\n",
       "      <td>9.000000</td>\n",
       "      <td>0.000000</td>\n",
       "      <td>20.000000</td>\n",
       "      <td>2.000000</td>\n",
       "      <td>145.000000</td>\n",
       "    </tr>\n",
       "    <tr>\n",
       "      <th>50%</th>\n",
       "      <td>450.000000</td>\n",
       "      <td>10.000000</td>\n",
       "      <td>6.000000</td>\n",
       "      <td>0.100000</td>\n",
       "      <td>12.500000</td>\n",
       "      <td>320.000000</td>\n",
       "      <td>77.500000</td>\n",
       "      <td>1.500000</td>\n",
       "      <td>74.000000</td>\n",
       "      <td>15.500000</td>\n",
       "      <td>15.000000</td>\n",
       "      <td>2.000000</td>\n",
       "      <td>47.500000</td>\n",
       "      <td>13.000000</td>\n",
       "      <td>147.500000</td>\n",
       "    </tr>\n",
       "    <tr>\n",
       "      <th>75%</th>\n",
       "      <td>460.000000</td>\n",
       "      <td>11.500000</td>\n",
       "      <td>7.000000</td>\n",
       "      <td>0.200000</td>\n",
       "      <td>27.500000</td>\n",
       "      <td>332.500000</td>\n",
       "      <td>88.500000</td>\n",
       "      <td>2.000000</td>\n",
       "      <td>81.000000</td>\n",
       "      <td>17.500000</td>\n",
       "      <td>21.250000</td>\n",
       "      <td>2.500000</td>\n",
       "      <td>60.000000</td>\n",
       "      <td>35.000000</td>\n",
       "      <td>150.000000</td>\n",
       "    </tr>\n",
       "    <tr>\n",
       "      <th>max</th>\n",
       "      <td>510.000000</td>\n",
       "      <td>15.000000</td>\n",
       "      <td>9.000000</td>\n",
       "      <td>0.300000</td>\n",
       "      <td>40.000000</td>\n",
       "      <td>340.000000</td>\n",
       "      <td>90.000000</td>\n",
       "      <td>3.000000</td>\n",
       "      <td>84.000000</td>\n",
       "      <td>19.000000</td>\n",
       "      <td>25.000000</td>\n",
       "      <td>20.000000</td>\n",
       "      <td>60.000000</td>\n",
       "      <td>40.000000</td>\n",
       "      <td>150.000000</td>\n",
       "    </tr>\n",
       "  </tbody>\n",
       "</table>\n",
       "</div>"
      ],
      "text/plain": [
       "         calories  total fat  trans fat  saturated fat     sodium  \\\n",
       "count    8.000000   8.000000   8.000000       8.000000   8.000000   \n",
       "mean   447.500000   9.875000   6.062500       0.112500  16.875000   \n",
       "std     32.841611   3.226564   1.613282       0.124642  14.865468   \n",
       "min    400.000000   5.000000   4.000000       0.000000   0.000000   \n",
       "25%    427.500000   7.750000   4.875000       0.000000   5.000000   \n",
       "50%    450.000000  10.000000   6.000000       0.100000  12.500000   \n",
       "75%    460.000000  11.500000   7.000000       0.200000  27.500000   \n",
       "max    510.000000  15.000000   9.000000       0.300000  40.000000   \n",
       "\n",
       "       total carbohydrates  cholesterol  dietary fibre     sugars    protein  \\\n",
       "count             8.000000     8.000000       8.000000   8.000000   8.000000   \n",
       "mean            302.500000    78.250000       1.250000  73.625000  13.250000   \n",
       "std              42.342144    10.539043       1.164965   9.257237   5.625198   \n",
       "min             230.000000    61.000000       0.000000  58.000000   6.000000   \n",
       "25%             280.000000    71.500000       0.000000  69.250000   7.000000   \n",
       "50%             320.000000    77.500000       1.500000  74.000000  15.500000   \n",
       "75%             332.500000    88.500000       2.000000  81.000000  17.500000   \n",
       "max             340.000000    90.000000       3.000000  84.000000  19.000000   \n",
       "\n",
       "       vitamin a  vitamin c    calcium       iron    caffeine  \n",
       "count   8.000000   8.000000   8.000000   8.000000    8.000000  \n",
       "mean   15.250000   3.750000  41.250000  17.500000  143.125000  \n",
       "std     7.667184   6.713526  19.775526  17.088007   13.611314  \n",
       "min     6.000000   0.000000  15.000000   0.000000  110.000000  \n",
       "25%     9.000000   0.000000  20.000000   2.000000  145.000000  \n",
       "50%    15.000000   2.000000  47.500000  13.000000  147.500000  \n",
       "75%    21.250000   2.500000  60.000000  35.000000  150.000000  \n",
       "max    25.000000  20.000000  60.000000  40.000000  150.000000  "
      ]
     },
     "execution_count": 22,
     "metadata": {},
     "output_type": "execute_result"
    }
   ],
   "source": [
    "# @@@ Question 9: select all rows with more than and including 400 calories\n",
    "temp1 = data[data['calories']>=400]\n",
    "temp1.describe()"
   ]
  },
  {
   "cell_type": "code",
   "execution_count": 23,
   "id": "ee8f8241",
   "metadata": {},
   "outputs": [
    {
     "data": {
      "text/html": [
       "<div>\n",
       "<style scoped>\n",
       "    .dataframe tbody tr th:only-of-type {\n",
       "        vertical-align: middle;\n",
       "    }\n",
       "\n",
       "    .dataframe tbody tr th {\n",
       "        vertical-align: top;\n",
       "    }\n",
       "\n",
       "    .dataframe thead th {\n",
       "        text-align: right;\n",
       "    }\n",
       "</style>\n",
       "<table border=\"1\" class=\"dataframe\">\n",
       "  <thead>\n",
       "    <tr style=\"text-align: right;\">\n",
       "      <th></th>\n",
       "      <th>calories</th>\n",
       "      <th>total fat</th>\n",
       "      <th>trans fat</th>\n",
       "      <th>saturated fat</th>\n",
       "      <th>sodium</th>\n",
       "      <th>total carbohydrates</th>\n",
       "      <th>cholesterol</th>\n",
       "      <th>dietary fibre</th>\n",
       "      <th>sugars</th>\n",
       "      <th>protein</th>\n",
       "      <th>vitamin a</th>\n",
       "      <th>vitamin c</th>\n",
       "      <th>calcium</th>\n",
       "      <th>iron</th>\n",
       "      <th>caffeine</th>\n",
       "    </tr>\n",
       "  </thead>\n",
       "  <tbody>\n",
       "    <tr>\n",
       "      <th>count</th>\n",
       "      <td>35.000000</td>\n",
       "      <td>35.000000</td>\n",
       "      <td>35.000000</td>\n",
       "      <td>35.000000</td>\n",
       "      <td>35.000000</td>\n",
       "      <td>35.000000</td>\n",
       "      <td>35.000000</td>\n",
       "      <td>35.000000</td>\n",
       "      <td>35.000</td>\n",
       "      <td>35.000000</td>\n",
       "      <td>35.000000</td>\n",
       "      <td>35.000000</td>\n",
       "      <td>35.000000</td>\n",
       "      <td>35.000000</td>\n",
       "      <td>35.000000</td>\n",
       "    </tr>\n",
       "    <tr>\n",
       "      <th>mean</th>\n",
       "      <td>266.857143</td>\n",
       "      <td>4.174286</td>\n",
       "      <td>2.257143</td>\n",
       "      <td>0.091429</td>\n",
       "      <td>14.285714</td>\n",
       "      <td>155.571429</td>\n",
       "      <td>47.885714</td>\n",
       "      <td>1.571429</td>\n",
       "      <td>43.200</td>\n",
       "      <td>10.894286</td>\n",
       "      <td>16.142857</td>\n",
       "      <td>21.828571</td>\n",
       "      <td>26.285714</td>\n",
       "      <td>3.428571</td>\n",
       "      <td>66.802348</td>\n",
       "    </tr>\n",
       "    <tr>\n",
       "      <th>std</th>\n",
       "      <td>87.035200</td>\n",
       "      <td>3.955364</td>\n",
       "      <td>2.320913</td>\n",
       "      <td>0.106747</td>\n",
       "      <td>12.610853</td>\n",
       "      <td>71.185047</td>\n",
       "      <td>15.192435</td>\n",
       "      <td>2.682029</td>\n",
       "      <td>14.832</td>\n",
       "      <td>5.777845</td>\n",
       "      <td>13.306661</td>\n",
       "      <td>32.223015</td>\n",
       "      <td>17.335057</td>\n",
       "      <td>5.348368</td>\n",
       "      <td>58.728271</td>\n",
       "    </tr>\n",
       "    <tr>\n",
       "      <th>min</th>\n",
       "      <td>100.000000</td>\n",
       "      <td>0.000000</td>\n",
       "      <td>0.000000</td>\n",
       "      <td>0.000000</td>\n",
       "      <td>0.000000</td>\n",
       "      <td>0.000000</td>\n",
       "      <td>19.000000</td>\n",
       "      <td>0.000000</td>\n",
       "      <td>17.000</td>\n",
       "      <td>0.100000</td>\n",
       "      <td>0.000000</td>\n",
       "      <td>2.000000</td>\n",
       "      <td>0.000000</td>\n",
       "      <td>0.000000</td>\n",
       "      <td>0.000000</td>\n",
       "    </tr>\n",
       "    <tr>\n",
       "      <th>25%</th>\n",
       "      <td>205.000000</td>\n",
       "      <td>0.500000</td>\n",
       "      <td>0.250000</td>\n",
       "      <td>0.000000</td>\n",
       "      <td>5.000000</td>\n",
       "      <td>125.000000</td>\n",
       "      <td>37.500000</td>\n",
       "      <td>0.000000</td>\n",
       "      <td>34.500</td>\n",
       "      <td>6.500000</td>\n",
       "      <td>7.000000</td>\n",
       "      <td>2.000000</td>\n",
       "      <td>10.000000</td>\n",
       "      <td>0.000000</td>\n",
       "      <td>0.000000</td>\n",
       "    </tr>\n",
       "    <tr>\n",
       "      <th>50%</th>\n",
       "      <td>270.000000</td>\n",
       "      <td>3.000000</td>\n",
       "      <td>1.500000</td>\n",
       "      <td>0.000000</td>\n",
       "      <td>10.000000</td>\n",
       "      <td>150.000000</td>\n",
       "      <td>49.000000</td>\n",
       "      <td>0.000000</td>\n",
       "      <td>40.000</td>\n",
       "      <td>12.000000</td>\n",
       "      <td>15.000000</td>\n",
       "      <td>8.000000</td>\n",
       "      <td>20.000000</td>\n",
       "      <td>2.000000</td>\n",
       "      <td>75.000000</td>\n",
       "    </tr>\n",
       "    <tr>\n",
       "      <th>75%</th>\n",
       "      <td>305.000000</td>\n",
       "      <td>7.000000</td>\n",
       "      <td>3.500000</td>\n",
       "      <td>0.200000</td>\n",
       "      <td>25.000000</td>\n",
       "      <td>195.000000</td>\n",
       "      <td>57.500000</td>\n",
       "      <td>1.500000</td>\n",
       "      <td>52.000</td>\n",
       "      <td>16.000000</td>\n",
       "      <td>20.000000</td>\n",
       "      <td>17.500000</td>\n",
       "      <td>40.000000</td>\n",
       "      <td>4.000000</td>\n",
       "      <td>110.000000</td>\n",
       "    </tr>\n",
       "    <tr>\n",
       "      <th>max</th>\n",
       "      <td>510.000000</td>\n",
       "      <td>15.000000</td>\n",
       "      <td>9.000000</td>\n",
       "      <td>0.300000</td>\n",
       "      <td>40.000000</td>\n",
       "      <td>330.000000</td>\n",
       "      <td>77.000000</td>\n",
       "      <td>8.000000</td>\n",
       "      <td>74.000</td>\n",
       "      <td>20.000000</td>\n",
       "      <td>50.000000</td>\n",
       "      <td>100.000000</td>\n",
       "      <td>60.000000</td>\n",
       "      <td>30.000000</td>\n",
       "      <td>150.000000</td>\n",
       "    </tr>\n",
       "  </tbody>\n",
       "</table>\n",
       "</div>"
      ],
      "text/plain": [
       "         calories  total fat  trans fat  saturated fat     sodium  \\\n",
       "count   35.000000  35.000000  35.000000      35.000000  35.000000   \n",
       "mean   266.857143   4.174286   2.257143       0.091429  14.285714   \n",
       "std     87.035200   3.955364   2.320913       0.106747  12.610853   \n",
       "min    100.000000   0.000000   0.000000       0.000000   0.000000   \n",
       "25%    205.000000   0.500000   0.250000       0.000000   5.000000   \n",
       "50%    270.000000   3.000000   1.500000       0.000000  10.000000   \n",
       "75%    305.000000   7.000000   3.500000       0.200000  25.000000   \n",
       "max    510.000000  15.000000   9.000000       0.300000  40.000000   \n",
       "\n",
       "       total carbohydrates  cholesterol  dietary fibre  sugars    protein  \\\n",
       "count            35.000000    35.000000      35.000000  35.000  35.000000   \n",
       "mean            155.571429    47.885714       1.571429  43.200  10.894286   \n",
       "std              71.185047    15.192435       2.682029  14.832   5.777845   \n",
       "min               0.000000    19.000000       0.000000  17.000   0.100000   \n",
       "25%             125.000000    37.500000       0.000000  34.500   6.500000   \n",
       "50%             150.000000    49.000000       0.000000  40.000  12.000000   \n",
       "75%             195.000000    57.500000       1.500000  52.000  16.000000   \n",
       "max             330.000000    77.000000       8.000000  74.000  20.000000   \n",
       "\n",
       "       vitamin a   vitamin c    calcium       iron    caffeine  \n",
       "count  35.000000   35.000000  35.000000  35.000000   35.000000  \n",
       "mean   16.142857   21.828571  26.285714   3.428571   66.802348  \n",
       "std    13.306661   32.223015  17.335057   5.348368   58.728271  \n",
       "min     0.000000    2.000000   0.000000   0.000000    0.000000  \n",
       "25%     7.000000    2.000000  10.000000   0.000000    0.000000  \n",
       "50%    15.000000    8.000000  20.000000   2.000000   75.000000  \n",
       "75%    20.000000   17.500000  40.000000   4.000000  110.000000  \n",
       "max    50.000000  100.000000  60.000000  30.000000  150.000000  "
      ]
     },
     "execution_count": 23,
     "metadata": {},
     "output_type": "execute_result"
    }
   ],
   "source": [
    "# @@@ Question 10: select all rows whose vitamin c content is higher than the iron content\n",
    "\n",
    "temp2 = data[data['vitamin c'] > data['iron']]\n",
    "temp2.describe()"
   ]
  },
  {
   "cell_type": "code",
   "execution_count": 24,
   "id": "d4de48bb",
   "metadata": {},
   "outputs": [],
   "source": [
    "# @@@ Question 11: create a new column containing the caffeine per calories of each drink\n",
    "data['caffeine_per_calories'] = data['caffeine']/data['calories']"
   ]
  },
  {
   "cell_type": "code",
   "execution_count": 26,
   "metadata": {
    "colab": {},
    "colab_type": "code",
    "id": "rIoxaSxHshvB"
   },
   "outputs": [
    {
     "name": "stdout",
     "output_type": "stream",
     "text": [
      "193.87190082644628\n"
     ]
    }
   ],
   "source": [
    "# @@@ Question 12: what is the average calorie across all items?\n",
    "import numpy as np\n",
    "print(np.mean(data['calories']))"
   ]
  },
  {
   "cell_type": "code",
   "execution_count": 27,
   "metadata": {
    "colab": {},
    "colab_type": "code",
    "id": "ABX7i49FshvD"
   },
   "outputs": [
    {
     "name": "stdout",
     "output_type": "stream",
     "text": [
      "9\n"
     ]
    }
   ],
   "source": [
    "# @@@ Question 13: how many different categories of beverages are there?\n",
    "print(data['beverage_category'].nunique())"
   ]
  },
  {
   "cell_type": "code",
   "execution_count": 29,
   "metadata": {
    "colab": {},
    "colab_type": "code",
    "id": "P9QatZAzshvE"
   },
   "outputs": [
    {
     "name": "stdout",
     "output_type": "stream",
     "text": [
      "beverage_category\n",
      "classic espresso drinks             140.172414\n",
      "coffee                                4.250000\n",
      "frappuccino blended coffee          276.944444\n",
      "frappuccino blended crme            233.076923\n",
      "frappuccino light blended coffee    162.500000\n",
      "shaken iced beverages               114.444444\n",
      "signature espresso drinks           250.000000\n",
      "smoothies                           282.222222\n",
      "tazo tea drinks                     177.307692\n",
      "Name: calories, dtype: float64\n"
     ]
    }
   ],
   "source": [
    "# @@@ Question 14: what is the average # calories for each beverage category?\n",
    "avg_cals = data.groupby('beverage_category')['calories'].mean()\n",
    "print(avg_cals)\n"
   ]
  }
 ],
 "metadata": {
  "kernelspec": {
   "display_name": "Python 3",
   "language": "python",
   "name": "python3"
  },
  "language_info": {
   "codemirror_mode": {
    "name": "ipython",
    "version": 3
   },
   "file_extension": ".py",
   "mimetype": "text/x-python",
   "name": "python",
   "nbconvert_exporter": "python",
   "pygments_lexer": "ipython3",
   "version": "3.13.7"
  }
 },
 "nbformat": 4,
 "nbformat_minor": 5
}
