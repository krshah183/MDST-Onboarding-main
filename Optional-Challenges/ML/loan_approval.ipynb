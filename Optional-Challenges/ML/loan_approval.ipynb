{
 "cells": [
  {
   "cell_type": "markdown",
   "metadata": {},
   "source": [
    "# ML Challenge \n",
    "\n",
    "<img src=\"https://imageio.forbes.com/specials-images/imageserve/5ecd179f798e4c00060d2c7c/0x0.jpg?format=jpg&height=600&width=1200&fit=bounds\" width=\"500\" height=\"300\">\n",
    "\n",
    "In the bustling city of Financia, the Central Lending Institution (CLI) is the largest provider of loans to individuals and businesses. With a mission to support economic growth and financial stability, CLI processes thousands of loan applications every month. However, the traditional manual review process is time-consuming and prone to human error, leading to delays and inconsistencies in loan approvals.\n",
    "To address these challenges, CLI has decided to leverage the power of machine learning to streamline their loan approval process. They have compiled a comprehensive dataset containing historical loan application records, including various factors such as credit scores, income levels, employment status, loan terms(measured in years), loan amounts, asset values, and the final loan status (approved or denied).\n",
    "\n",
    "\n",
    "**Your task is to develop a predictive model that can accurately determine the likelihood of loan approval based on the provided features. By doing so, you will help CLI make faster, more accurate, and fairer lending decisions, ultimately contributing to the financial well-being of the community.**\n",
    "\n",
    "It is recommended that you follow the typical machine learning workflow, though you are not required to strictly follow each steps: \n",
    "1. Data Collection: Gather the data you need for your model. (Already done for you)\n",
    "\n",
    "2. Data Preprocessing: Clean and prepare the data for analysis. (Already done for you)\n",
    "\n",
    "3. Exploratory Data Analysis (EDA): Understand the data and its patterns. (Partially done for you)\n",
    "\n",
    "4. Feature Engineering: Create new features or modify existing ones to improve model performance. (Partially done for you)\n",
    "\n",
    "5. Model Selection: Choose the appropriate machine learning algorithm.\n",
    "\n",
    "6. Model Training: Train the model using the training dataset.\n",
    "\n",
    "7. Model Evaluation: Evaluate the model's performance using a validation dataset.\n",
    "\n",
    "8. Model Optimization: Optimize the model's parameters to improve performance.\n",
    "\n",
    "9. Model Testing: Test the final model on a separate test dataset.\n",
    "\n",
    "**Please include ALL your work and thought process in this notebook**"
   ]
  },
  {
   "cell_type": "code",
   "execution_count": 50,
   "metadata": {},
   "outputs": [],
   "source": [
    "# You may include any package you deem fit. We sugggest looking into Scikit-learn\n",
    "import pandas as pd\n",
    "import numpy as np\n",
    "import matplotlib.pyplot as plt\n",
    "import sklearn as sklearn"
   ]
  },
  {
   "cell_type": "markdown",
   "metadata": {},
   "source": [
    "## Dataset\n"
   ]
  },
  {
   "cell_type": "code",
   "execution_count": 51,
   "metadata": {},
   "outputs": [],
   "source": [
    "# DO NOT MODIFY\n",
    "loan_data = pd.read_csv(\"../../data/loan_approval.csv\")\n"
   ]
  },
  {
   "cell_type": "code",
   "execution_count": null,
   "metadata": {},
   "outputs": [],
   "source": [
    "print(loan_data.head())\n",
    "print(loan_data.info())\n",
    "# 13 columns, first one loan_id is just a tracker. education is a categorical variable which requires encoding\n",
    "# self_employed, and loan status (y variable) should be made numerical \n",
    "# Scaling should be done on the training data (and use the same means and variances for the testing)\n",
    "# No missing values in the data\n"
   ]
  },
  {
   "cell_type": "markdown",
   "metadata": {},
   "source": [
    "## EDA\n",
    "Uncomment to see desired output. Add more analysis if you like"
   ]
  },
  {
   "cell_type": "code",
   "execution_count": null,
   "metadata": {},
   "outputs": [],
   "source": [
    "\n",
    "\n",
    "# ------ Display basic information ------\n",
    "#print(loan_data.columns)\n",
    "#print(loan_data.describe())\n",
    "\n",
    "# ------ Check for missing values ------\n",
    "#print(loan_data.isnull().sum())\n",
    "\n",
    "# ------ Visualize the distribution of loan status ------\n",
    "# loan_status_counts = loan_data['loan_status'].value_counts()\n",
    "# plt.bar(loan_status_counts.index, loan_status_counts.values)\n",
    "# plt.title('Distribution of Loan Status')\n",
    "# plt.xlabel('Loan Status')\n",
    "# plt.ylabel('Count')\n",
    "\n",
    "# Slight imbalance in classes but not enough to justify SMOTE or other synthetic balancing techniques. Will handle by\n",
    "# plotting class specific metrics once the models are trained (during testing). Will also use stratified cross validation \n",
    "# so that the imbalance doesn't become worse during training\n",
    "\n",
    "# ------ Visualize the distribution of numerical features ------ \n",
    "loan_data.hist(bins=30, figsize=(20, 15))\n",
    "# Strong right skew in the later variables.\n",
    "# Do not need to do too much about it. Could explore a log1p() transformation but it is not necessary\n",
    "# on experiment, the lop1p leads to null values in one of the variables so it is omitted\n",
    "\n",
    "\n",
    "# ------ Correlation matrix ------\n",
    "# corr_matrix = loan_data.corr()\n",
    "# fig, ax = plt.subplots(figsize=(10, 8))\n",
    "# cax = ax.matshow(corr_matrix, cmap='coolwarm')\n",
    "# fig.colorbar(cax)\n",
    "# plt.xticks(range(len(corr_matrix.columns)), corr_matrix.columns, rotation=90)\n",
    "# plt.yticks(range(len(corr_matrix.columns)), corr_matrix.columns)\n",
    "\n",
    "# Correlation matrix to be plotted later once encoding for the categorical data and the scaling is completed\n",
    "\n",
    "# ----- MORE (Encouraged but not required) ------\n",
    "\n",
    "# We know that the education, self_employed and loan_status are the categorical features. Before encoding, have to see the values\n",
    "\n",
    "print(loan_data['education'].unique())\n",
    "print(loan_data['self_employed'].unique())\n",
    "print(loan_data['loan_status'].unique())\n",
    "\n",
    "# All 3 of these variables only have 2 values which allows for easy 0-1 encoding\n",
    "# will do more once the data is all cleaned up (encoding wise)"
   ]
  },
  {
   "cell_type": "markdown",
   "metadata": {},
   "source": [
    "## Feature Engineering\n",
    "\n",
    "You may want to convert categorical variables to numerical. For example, education takes on the value Graduate and Not Graduate. But we want it to be 0 or 1 for machine learning algorithms to use."
   ]
  },
  {
   "cell_type": "code",
   "execution_count": 53,
   "metadata": {},
   "outputs": [
    {
     "name": "stdout",
     "output_type": "stream",
     "text": [
      "<class 'pandas.core.frame.DataFrame'>\n",
      "RangeIndex: 4269 entries, 0 to 4268\n",
      "Data columns (total 13 columns):\n",
      " #   Column                    Non-Null Count  Dtype\n",
      "---  ------                    --------------  -----\n",
      " 0   loan_id                   4269 non-null   int64\n",
      " 1   no_of_dependents          4269 non-null   int64\n",
      " 2   education                 4269 non-null   int64\n",
      " 3   self_employed             4269 non-null   int64\n",
      " 4   income_annum              4269 non-null   int64\n",
      " 5   loan_amount               4269 non-null   int64\n",
      " 6   loan_term                 4269 non-null   int64\n",
      " 7   cibil_score               4269 non-null   int64\n",
      " 8   residential_assets_value  4269 non-null   int64\n",
      " 9   commercial_assets_value   4269 non-null   int64\n",
      " 10  luxury_assets_value       4269 non-null   int64\n",
      " 11  bank_asset_value          4269 non-null   int64\n",
      " 12  loan_status               4269 non-null   int64\n",
      "dtypes: int64(13)\n",
      "memory usage: 433.7 KB\n"
     ]
    }
   ],
   "source": [
    "loan_data['education'] = loan_data['education'].map({'Graduate': 1, 'Not Graduate': 0})\n",
    "# Hint: Other categorical variables are self_employed and loan_status\n",
    "loan_data['self_employed'] = loan_data['self_employed'].map({'Yes': 1, 'No': 0})\n",
    "loan_data['loan_status'] = loan_data['loan_status'].map({'Approved': 1, 'Rejected': 0})\n",
    "\n",
    "\n",
    "loan_data.info()"
   ]
  },
  {
   "cell_type": "code",
   "execution_count": null,
   "metadata": {},
   "outputs": [],
   "source": [
    "# All variables are now numerical. Can perform some more EDA measures now.\n",
    "# Steps to be taken:\n",
    "# Correlation matrix with all the variables in to see which variables are good predictors of the response.\n",
    "# This matrix will also find correlations that would signal multicollinearity\n",
    "# Graphs (such as box plots) while treating the response as a categorical variable to see if predictors have a non linear relationship with the response\n",
    "\n",
    "\n",
    "# ------ Correlation matrix ------\n",
    "corr_matrix = loan_data.corr()\n",
    "fig, ax = plt.subplots(figsize=(10, 8))\n",
    "cax = ax.matshow(corr_matrix, cmap='coolwarm')\n",
    "fig.colorbar(cax)\n",
    "plt.xticks(range(len(corr_matrix.columns)), corr_matrix.columns, rotation=90)\n",
    "plt.yticks(range(len(corr_matrix.columns)), corr_matrix.columns)"
   ]
  },
  {
   "cell_type": "code",
   "execution_count": null,
   "metadata": {},
   "outputs": [],
   "source": [
    "# Based on the correlation matrix, there aren't too many variables that have a strong correlation with loan_status\n",
    "# Need to investigate slightly more. Will plot box plots to see the distributions for each variable with the loan status creating two different plots\n",
    "# This will give a better idea of whether tree based models would be a better fit for the data\n",
    "\n",
    "cols = loan_data.columns\n",
    "features = [c for c in cols if c not in [\"loan_id\", \"loan_status\"]] \n",
    "\n",
    "for col in features:\n",
    "    ax = loan_data.boxplot(column=col, by=\"loan_status\", grid=False)\n",
    "    plt.title(col); plt.suptitle(\"\")\n",
    "    plt.xlabel(\"loan_status\"); plt.ylabel(col)\n",
    "    plt.show()\n",
    "\n",
    "# Not sure what to make of this since very few variables show clear differences. Alternate strategy: fit a model and use features_importances_/ RFE to decide\n",
    "# So far CIBIL score is a very strong predictor. It was also the strongest correlation with the loan_status in the correaltio matrix"
   ]
  },
  {
   "cell_type": "markdown",
   "metadata": {},
   "source": [
    "## Model Selection\n",
    "\n",
    "You are free to use any classification machine learning models you like: Logistic Regression, Decision Trees/Random Forests, Support Vector Machines, KNN ... "
   ]
  },
  {
   "cell_type": "code",
   "execution_count": null,
   "metadata": {},
   "outputs": [],
   "source": [
    "# Models to be used are \n",
    "# logistic regression \n",
    "# random forest\n",
    "# xgboost\n",
    "# SVM"
   ]
  },
  {
   "cell_type": "markdown",
   "metadata": {},
   "source": [
    "## Model Training and Evaluation"
   ]
  },
  {
   "cell_type": "code",
   "execution_count": 56,
   "metadata": {},
   "outputs": [],
   "source": [
    "# Steps here\n",
    "# train test split\n",
    "# Scaling\n",
    "# Use Recursive Feature Elimination with CV to find the best features for a given model\n",
    "# Fit said model based on chosen features using hyperparameter tuning as well\n",
    "# Evaluate each model using ROC-AUC, recall and precision, accuracy and GINI\n",
    "# This pipeline will be followed independently for each model to make it cleaner\n",
    "\n",
    "X = loan_data.drop(columns = ['loan_id','loan_status']).copy()\n",
    "y = loan_data['loan_status'].copy()\n",
    "\n",
    "from sklearn.model_selection import train_test_split\n",
    "X_train, X_test, y_train, y_test = train_test_split(X, y, test_size=0.2, stratify=y, random_state=42)\n",
    "\n",
    "# Scaling data\n",
    "from sklearn.preprocessing import StandardScaler\n",
    "\n",
    "scaler = StandardScaler().fit(X_train) \n",
    "X_train_scaled = pd.DataFrame(scaler.transform(X_train), index=X_train.index, columns=X_train.columns)\n",
    "X_test_scaled  = pd.DataFrame(scaler.transform(X_test),  index=X_test.index,  columns=X_test.columns)\n",
    "# no need to scale y"
   ]
  },
  {
   "cell_type": "code",
   "execution_count": null,
   "metadata": {},
   "outputs": [
    {
     "name": "stdout",
     "output_type": "stream",
     "text": [
      "Selected features: ['income_annum', 'loan_amount', 'loan_term', 'cibil_score', 'commercial_assets_value', 'luxury_assets_value', 'bank_asset_value']\n",
      "Train ROC-AUC:  0.9675720930232559\n",
      "Test ROC-AUC:  0.9729408266428784\n",
      "Test GINI Index:  0.9458816532857568\n",
      "Test Accuracy:  0.9121779859484778\n",
      "Test Precision:  0.9191176470588235\n",
      "Test Recall:  0.9416195856873822\n",
      "Confusion Matrix:  [[279  44]\n",
      " [ 31 500]]\n"
     ]
    }
   ],
   "source": [
    "# Logistic Regression\n",
    "# Pipeline is as given earlier - choose features using RFE, train and tune model and then evaluate it\n",
    "from sklearn.feature_selection import RFE\n",
    "from sklearn.linear_model import LogisticRegression\n",
    "\n",
    "\n",
    "# fitting RFE for feature selection\n",
    "rfe_lr = RFE(estimator=LogisticRegression(max_iter=1000), n_features_to_select=7, step=1)\n",
    "rfe_lr.fit(X_train_scaled, y_train)\n",
    "\n",
    "selected_cols_lr = X_train_scaled.columns[rfe_lr.support_].tolist()\n",
    "X_train_lr = X_train_scaled[selected_cols_lr].copy()\n",
    "X_test_lr  = X_test_scaled[selected_cols_lr].copy()\n",
    "\n",
    "print(\"Selected features:\", selected_cols_lr)\n",
    "\n",
    "#Fitting model based on the selected features and adding hyperparameter tuning through gridsearch\n",
    "\n",
    "from sklearn.linear_model import LogisticRegression\n",
    "from sklearn.metrics import roc_auc_score\n",
    "\n",
    "best_lr = LogisticRegression(max_iter=2000)\n",
    "best_lr.fit(X_train_lr, y_train)\n",
    "# experimented with gridsearch for c value which caused overfitting in the training data. train - test AUC = 0.07 \n",
    "# simplified model down to avoid said overfitting\n",
    "\n",
    "\n",
    "# Evaluation for the given Log Reg model\n",
    "from sklearn.metrics import (confusion_matrix, precision_score, recall_score,accuracy_score)\n",
    "\n",
    "test_prob_lr = best_lr.predict_proba(X_test_lr)[:, 1]\n",
    "threshold = 0.5 #can be changed based on business intelligence, however simplest value chosen here\n",
    "test_pred_lr = (test_prob_lr >= threshold).astype(int)\n",
    "\n",
    "train_prob_lr = best_lr.predict_proba(X_train_lr)[:, 1]\n",
    "train_auc_lr = roc_auc_score(y_train, train_prob_lr)\n",
    "print(\"Train ROC-AUC: \",train_auc_lr)\n",
    "\n",
    "auc_lr = roc_auc_score(y_test, test_prob_lr)\n",
    "print(\"Test ROC-AUC: \",auc_lr)\n",
    "# the AUC being 0.90 is high. Since we trained basis AUC as well, we can see the difference between test and train \n",
    "# 0.01 difference between train and test is enough to reject the hypothesis of  overfitting\n",
    "\n",
    "gini_lr  = 2*auc_lr - 1\n",
    "print(\"Test GINI Index: \",gini_lr)\n",
    "\n",
    "accuracy_lr  = accuracy_score(y_test, test_pred_lr)\n",
    "print(\"Test Accuracy: \",accuracy_lr)\n",
    "\n",
    "precision_lr = precision_score(y_test, test_pred_lr, zero_division=0)\n",
    "print(\"Test Precision: \",precision_lr)\n",
    "\n",
    "recall_lr = recall_score(y_test, test_pred_lr, zero_division=0)\n",
    "print(\"Test Recall: \",recall_lr)\n",
    "\n",
    "cm_lr = confusion_matrix(y_test, test_pred_lr)\n",
    "print(\"Confusion Matrix: \",cm_lr)\n",
    "# All of these metrics are very strong, bordering too good. "
   ]
  },
  {
   "cell_type": "code",
   "execution_count": null,
   "metadata": {},
   "outputs": [
    {
     "data": {
      "image/png": "[encoded data removed]",
      "text/plain": [
       "<Figure size 640x480 with 1 Axes>"
      ]
     },
     "metadata": {},
     "output_type": "display_data"
    },
    {
     "name": "stdout",
     "output_type": "stream",
     "text": [
      "x    61\n",
      "y    61\n",
      "dtype: int64\n",
      "x    531\n",
      "y    531\n",
      "dtype: int64\n",
      "x    75\n",
      "y    75\n",
      "dtype: int64\n",
      "x    323\n",
      "y    323\n",
      "dtype: int64\n"
     ]
    }
   ],
   "source": [
    "# Since the question also mentions likelihood of the approval or rejection, we shall also visualize the predicted probablities\n",
    "# The idea is to see if the models make confident decisions (probabilities closer to 0 or 1) or simply around 0.5.\n",
    "\n",
    "\n",
    "# For the log reg model above first\n",
    "# Since the data is likely to be very concentrated, using seaborn and incorporating jitter in to make graph more informative\n",
    "\n",
    "import seaborn as sns\n",
    "\n",
    "df_lr = pd.DataFrame({\"x\": np.asarray(y_test).astype(int), \"y\": test_prob_lr})\n",
    "\n",
    "plt.figure()\n",
    "sns.stripplot(data=df_lr, x=\"x\", y=\"y\", jitter=0.2, alpha=0.5, size=3)\n",
    "plt.axhline(0.5, ls=\"--\", lw=1)\n",
    "plt.ylim(-0.02, 1.02)\n",
    "plt.xlabel(\"True label (y_test)\")\n",
    "plt.ylabel(\"Predicted P(y=1)\")\n",
    "plt.title(\"Log Reg Confidence\")\n",
    "plt.show()\n",
    "# Based on the graph, the model is making reasonably confident decisions. A little more data exploration is conducted below\n",
    "\n",
    "print(df_lr[(df_lr['x'] == 1) & (df_lr['y']<0.7)].count()) # number of true positive where the probability is less than 0.7\n",
    "print(df_lr[df_lr['x']== 1].count()) # for reference\n",
    "# When the true value is 1, the log reg model predicts 1 with probability greater than 0.7 (531-61)/531 = 88% times\n",
    "\n",
    "\n",
    "print(df_lr[(df_lr['x']==0) & (df_lr['y']>0.3)].count()) # number of true negatives where prob is more than 0.3\n",
    "print(df_lr[df_lr['x']== 0].count()) # for reference\n",
    "# When the true value is 0, the log reg model predicts 0 with probability less than 0.3 (323-75)/323 = 76% times\n",
    "# Does well for both, slightly better in the positive case in terms of confidence\n"
   ]
  },
  {
   "cell_type": "code",
   "execution_count": null,
   "metadata": {},
   "outputs": [
    {
     "name": "stdout",
     "output_type": "stream",
     "text": [
      "Selected features: ['income_annum', 'loan_amount', 'loan_term', 'cibil_score', 'residential_assets_value', 'commercial_assets_value', 'luxury_assets_value']\n",
      "Best params: {'max_depth': 20, 'max_features': 'sqrt', 'min_samples_leaf': 1, 'min_samples_split': 2, 'n_estimators': 500}\n",
      "Train ROC-AUC: 1.0\n",
      "Test  ROC-AUC: 0.9989067884067098\n",
      "Test GINI Index: 0.9978135768134195\n",
      "0.9824355971896955\n",
      "0.9795539033457249\n",
      "0.992467043314501\n",
      "[[312  11]\n",
      " [  4 527]]\n"
     ]
    }
   ],
   "source": [
    "# Same pipeline with random forest to see if the results are better/similar/worse\n",
    "# RFE and all evaluation metrics are already imported\n",
    "from sklearn.ensemble import RandomForestClassifier\n",
    "from sklearn.model_selection import GridSearchCV, StratifiedKFold\n",
    "\n",
    "rfe_rf = RFE(estimator=RandomForestClassifier(n_estimators=300, random_state=42, n_jobs=-1),n_features_to_select=7)\n",
    "rfe_rf.fit(X_train_scaled, y_train)\n",
    "\n",
    "selected_cols_rf = X_train_scaled.columns[rfe_rf.support_].tolist()\n",
    "X_train_rf = X_train_scaled[selected_cols_rf].copy()\n",
    "X_test_rf  = X_test_scaled[selected_cols_rf].copy()\n",
    "\n",
    "print(\"Selected features:\", selected_cols_rf)\n",
    "\n",
    "\n",
    "cv_rf = StratifiedKFold(n_splits=5, shuffle=True, random_state=42)\n",
    "model_rf = RandomForestClassifier(random_state=42, n_jobs=-1)\n",
    "\n",
    "param_grid_rf = {\n",
    "    \"n_estimators\": [200, 500],\n",
    "    \"max_depth\": [None, 10, 20],\n",
    "    \"min_samples_split\": [2, 10],\n",
    "    \"min_samples_leaf\": [1, 2],\n",
    "    \"max_features\": [\"sqrt\", \"log2\"]\n",
    "}\n",
    "\n",
    "grid_rf = GridSearchCV(estimator=model_rf,param_grid=param_grid_rf,scoring=\"roc_auc\",cv=cv_rf,n_jobs=-1,refit=True)\n",
    "\n",
    "grid_rf.fit(X_train_rf, y_train)\n",
    "print(\"Best params:\", grid_rf.best_params_)\n",
    "\n",
    "best_rf = grid_rf.best_estimator_\n",
    "\n",
    "# Evaluation of Random Forest\n",
    "train_prob_rf = best_rf.predict_proba(X_train_rf)[:, 1]\n",
    "test_prob_rf  = best_rf.predict_proba(X_test_rf)[:, 1]\n",
    "\n",
    "train_auc_rf = roc_auc_score(y_train, train_prob_rf)\n",
    "test_auc_rf  = roc_auc_score(y_test,  test_prob_rf)\n",
    "print(\"Train ROC-AUC:\", train_auc_rf)\n",
    "print(\"Test  ROC-AUC:\", test_auc_rf)\n",
    "\n",
    "# GINI Index\n",
    "gini_rf = 2 * test_auc_rf - 1\n",
    "print(\"Test GINI Index:\", gini_rf)\n",
    "\n",
    "threshold = 0.5\n",
    "test_pred_rf = (test_prob_rf >= threshold).astype(int)\n",
    "\n",
    "accuracy_rf = accuracy_score(y_test, test_pred_rf)\n",
    "print(accuracy_rf)\n",
    "\n",
    "precision_rf = precision_score(y_test, test_pred_rf, zero_division=0)\n",
    "print(precision_rf)\n",
    "\n",
    "recall_rf = recall_score(y_test, test_pred_rf, zero_division=0)\n",
    "print(recall_rf)\n",
    "\n",
    "cm_rf = confusion_matrix(y_test, test_pred_rf)\n",
    "print(cm_rf)\n",
    "\n",
    "# Random forest performs extremely well on the data. It fits the training data perfectly and is almost just as good on the \n",
    "# test data (based on AUC). All other metrics are also high, much better than the log reg model"
   ]
  },
  {
   "cell_type": "code",
   "execution_count": null,
   "metadata": {},
   "outputs": [
    {
     "data": {
      "image/png": "[encoded data removed]",
      "text/plain": [
       "<Figure size 640x480 with 1 Axes>"
      ]
     },
     "metadata": {},
     "output_type": "display_data"
    },
    {
     "name": "stdout",
     "output_type": "stream",
     "text": [
      "x    14\n",
      "y    14\n",
      "dtype: int64\n",
      "x    531\n",
      "y    531\n",
      "dtype: int64\n",
      "x    19\n",
      "y    19\n",
      "dtype: int64\n",
      "x    323\n",
      "y    323\n",
      "dtype: int64\n"
     ]
    }
   ],
   "source": [
    "# Confidence inspection for RF\n",
    "\n",
    "df_rf = pd.DataFrame({\"x\": np.asarray(y_test).astype(int), \"y\": test_prob_rf})\n",
    "\n",
    "plt.figure()\n",
    "sns.stripplot(data=df_lr, x=\"x\", y=\"y\", jitter=0.2, alpha=0.5, size=3)\n",
    "plt.axhline(0.5, ls=\"--\", lw=1)\n",
    "plt.ylim(-0.02, 1.02)\n",
    "plt.xlabel(\"True label (y_test)\")\n",
    "plt.ylabel(\"Predicted P(y=1)\")\n",
    "plt.title(\"Random Forest Confidence\")\n",
    "plt.show()\n",
    "# Based on the graph, the model is making very confident decisions. A little more data exploration is conducted below\n",
    "\n",
    "print(df_rf[(df_rf['x'] == 1) & (df_rf['y']<0.7)].count()) # number of true positive where the probability is less than 0.7\n",
    "print(df_rf[df_rf['x']== 1].count()) # for reference\n",
    "# When the true value is 1, the RF model predicts 1 with probability greater than 0.7 (531-14)/531 = 97% times\n",
    "\n",
    "\n",
    "print(df_rf[(df_rf['x']==0) & (df_rf['y']>0.3)].count()) # number of true negatives where prob is more than 0.3\n",
    "print(df_rf[df_rf['x']== 0].count()) # for reference\n",
    "# When the true value is 0, the RF model predicts 0 with probability less than 0.3 (323-19)/323 = 94% times\n",
    "# Does incredibly well in terms of confidence, especially for the positive case."
   ]
  },
  {
   "cell_type": "code",
   "execution_count": null,
   "metadata": {},
   "outputs": [
    {
     "name": "stdout",
     "output_type": "stream",
     "text": [
      "Selected features: ['income_annum', 'loan_amount', 'loan_term', 'cibil_score', 'commercial_assets_value', 'luxury_assets_value', 'bank_asset_value']\n",
      "Best params: {'C': 10}\n",
      "Train ROC-AUC: 0.9675491108071135\n",
      "Test  ROC-AUC: 0.9726901167841504\n",
      "Test Accuracy:  0.9121779859484778\n",
      "Test Precision:  0.9206642066420664\n",
      "Test Recall:  0.9397363465160076\n",
      "[[280  43]\n",
      " [ 32 499]]\n"
     ]
    }
   ],
   "source": [
    "# Using SVM (alternate method to check if linear separability is a better approach for the data)\n",
    "\n",
    "from sklearn.svm import LinearSVC\n",
    "\n",
    "rfe_svm = RFE(estimator=LinearSVC(max_iter=5000, dual=\"auto\", random_state=42),n_features_to_select=7)\n",
    "rfe_svm.fit(X_train_scaled, y_train)\n",
    "\n",
    "selected_cols_svm = X_train_scaled.columns[rfe_svm.support_].tolist()\n",
    "X_train_svm = X_train_scaled[selected_cols_svm].copy()\n",
    "X_test_svm  = X_test_scaled[selected_cols_svm].copy()\n",
    "\n",
    "print(\"Selected features:\", selected_cols_svm)\n",
    "\n",
    "cv_svm = StratifiedKFold(n_splits=5, shuffle=True, random_state=42)\n",
    "\n",
    "model_svm = LinearSVC(max_iter=5000, dual=\"auto\", random_state=42)\n",
    "\n",
    "param_grid_svm = {\"C\": [0.01, 0.1, 1, 10, 100]}\n",
    "\n",
    "grid_svm = GridSearchCV(estimator=model_svm,param_grid=param_grid_svm,scoring=\"roc_auc\",cv=cv_svm,n_jobs=-1,refit=True)\n",
    "\n",
    "grid_svm.fit(X_train_svm, y_train)\n",
    "print(\"Best params:\", grid_svm.best_params_)\n",
    "\n",
    "best_svm = grid_svm.best_estimator_\n",
    "\n",
    "# Since SVM does not give probabilities, we cannot use predict_proba or similar uses. \n",
    "# Instead we can use decision_function and use 0 as the threshold to get the sign of the score\n",
    "\n",
    "train_dec_svm = best_svm.decision_function(X_train_svm)\n",
    "test_dec_svm  = best_svm.decision_function(X_test_svm)\n",
    "\n",
    "train_auc_svm = roc_auc_score(y_train, train_dec_svm)\n",
    "test_auc_svm  = roc_auc_score(y_test,  test_dec_svm)\n",
    "print(\"Train ROC-AUC:\", train_auc_svm)\n",
    "print(\"Test  ROC-AUC:\", test_auc_svm)\n",
    "\n",
    "test_pred_svm = (test_dec_svm >= 0).astype(int)\n",
    "\n",
    "accuracy_svm = accuracy_score(y_test, test_pred_svm)\n",
    "print(\"Test Accuracy: \",accuracy_svm)\n",
    "precision_svm = precision_score(y_test, test_pred_svm, zero_division=0)\n",
    "print(\"Test Precision: \",precision_svm)\n",
    "recall_svm = recall_score(y_test, test_pred_svm, zero_division=0)\n",
    "print(\"Test Recall: \",recall_svm)\n",
    "cm_svm = confusion_matrix(y_test, test_pred_svm)\n",
    "print(cm_svm)\n",
    "# Performs similar to log reg but not as well as the random forest across all metrics"
   ]
  },
  {
   "cell_type": "code",
   "execution_count": null,
   "metadata": {},
   "outputs": [],
   "source": [
    "# SVM does not provide proababilities like the others. Therefore, it makes the confidence inference harder.\n",
    "# A sigmoid function can be used to map but that is not necessary based on the success of Random Forest."
   ]
  },
  {
   "cell_type": "markdown",
   "metadata": {},
   "source": [
    "## Model Optimization and Testing"
   ]
  },
  {
   "cell_type": "code",
   "execution_count": null,
   "metadata": {},
   "outputs": [],
   "source": [
    "# Done in previous sections."
   ]
  },
  {
   "cell_type": "markdown",
   "metadata": {},
   "source": [
    "Findings:\n",
    "After experimenting with three models, using RFE for feature selection and gridsearch for hyperparameter tuning, all three models perform incredibly well across all used metrics (AUC, GINI, precision, recall, accuracy). The model seems to hint at overfitting but since it does just as wel on the test data, that is discarded.\n",
    "Of the three models, Random Forest performs optimally with a train ROC of 1 and a test ROC of 0.998, both of which are near perfect. \n",
    "Using the confidence testing done after fitting the model, we also see that random forest provides very confident decisions with 97% of true postives achieving a predicted probability greater than 0.7 and 94% of true negatives achieving predicted probability below 0.3.\n",
    "Random Forest is therefore, the most ideal model for this particular data set."
   ]
  }
 ],
 "metadata": {
  "kernelspec": {
   "display_name": "Python 3",
   "language": "python",
   "name": "python3"
  },
  "language_info": {
   "codemirror_mode": {
    "name": "ipython",
    "version": 3
   },
   "file_extension": ".py",
   "mimetype": "text/x-python",
   "name": "python",
   "nbconvert_exporter": "python",
   "pygments_lexer": "ipython3",
   "version": "3.13.7"
  }
 },
 "nbformat": 4,
 "nbformat_minor": 2
}
